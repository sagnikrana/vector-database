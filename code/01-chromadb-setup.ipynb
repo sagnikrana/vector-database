{
 "cells": [
  {
   "cell_type": "code",
   "execution_count": 10,
   "metadata": {},
   "outputs": [],
   "source": [
    "import pandas as pd\n",
    "import chromadb"
   ]
  },
  {
   "cell_type": "code",
   "execution_count": 13,
   "metadata": {},
   "outputs": [],
   "source": [
    "chroma_client = chromadb.Client()\n",
    "collection_name = 'test_collection'\n",
    "collection = chroma_client.get_or_create_collection(collection_name)\n"
   ]
  },
  {
   "cell_type": "code",
   "execution_count": 22,
   "metadata": {},
   "outputs": [
    {
     "data": {
      "text/plain": [
       "{'ids': [['doc1', 'doc2', 'doc3']],\n",
       " 'distances': [[0.15001682937145233, 1.3767235279083252, 1.4576730728149414]],\n",
       " 'metadatas': [[None, None, None]],\n",
       " 'embeddings': None,\n",
       " 'documents': [['Hello world',\n",
       "   'How are you doign today',\n",
       "   'Goodbye, See you later']],\n",
       " 'uris': None,\n",
       " 'data': None,\n",
       " 'included': ['metadatas', 'documents', 'distances']}"
      ]
     },
     "execution_count": 22,
     "metadata": {},
     "output_type": "execute_result"
    }
   ],
   "source": [
    "documents = [\n",
    "{'id' : 'doc1', 'text' : 'Hello world'},\n",
    "{'id' : 'doc2', 'text' : 'How are you doign today'},\n",
    "{'id' : 'doc3', 'text' : 'Goodbye, See you later'}\n",
    "]\n",
    "\n",
    "# Adding the documents into the collection\n",
    "\n",
    "for doc in documents:\n",
    "    collection.upsert(ids = doc['id'], documents = doc['text'])\n",
    "\n",
    "query = \"Hello world !\"\n",
    "results = collection.query(query_texts = [query], n_results=3)\n",
    "results"
   ]
  },
  {
   "cell_type": "code",
   "execution_count": null,
   "metadata": {},
   "outputs": [],
   "source": []
  }
 ],
 "metadata": {
  "kernelspec": {
   "display_name": "GenAI",
   "language": "python",
   "name": "python3"
  },
  "language_info": {
   "codemirror_mode": {
    "name": "ipython",
    "version": 3
   },
   "file_extension": ".py",
   "mimetype": "text/x-python",
   "name": "python",
   "nbconvert_exporter": "python",
   "pygments_lexer": "ipython3",
   "version": "3.12.3"
  }
 },
 "nbformat": 4,
 "nbformat_minor": 2
}
